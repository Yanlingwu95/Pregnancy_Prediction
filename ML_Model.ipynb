{
 "cells": [
  {
   "cell_type": "code",
   "execution_count": 1,
   "metadata": {},
   "outputs": [],
   "source": [
    "import pandas as pd\n",
    "import numpy as np\n",
    "import matplotlib.pyplot as plt\n",
    "%matplotlib inline\n",
    "from sklearn.utils import shuffle\n",
    "from sklearn.preprocessing import LabelEncoder\n",
    "from sklearn.model_selection import train_test_split"
   ]
  },
  {
   "cell_type": "code",
   "execution_count": 56,
   "metadata": {},
   "outputs": [],
   "source": [
    "data = pd.read_csv('./row_data_sbsb.csv')\n",
    "data.drop(labels=None,axis=1, index=None, columns=\"Dry_Days\", inplace=True)\n",
    "data = data.apply(pd.to_numeric, errors = \"coerce\")\n",
    "# for s in data.iloc[0,:]:\n",
    "#     print(type(s))"
   ]
  },
  {
   "cell_type": "code",
   "execution_count": 57,
   "metadata": {},
   "outputs": [
    {
     "name": "stdout",
     "output_type": "stream",
     "text": [
      "(14132, 19)\n"
     ]
    },
    {
     "data": {
      "text/html": [
       "<div>\n",
       "<style scoped>\n",
       "    .dataframe tbody tr th:only-of-type {\n",
       "        vertical-align: middle;\n",
       "    }\n",
       "\n",
       "    .dataframe tbody tr th {\n",
       "        vertical-align: top;\n",
       "    }\n",
       "\n",
       "    .dataframe thead th {\n",
       "        text-align: right;\n",
       "    }\n",
       "</style>\n",
       "<table border=\"1\" class=\"dataframe\">\n",
       "  <thead>\n",
       "    <tr style=\"text-align: right;\">\n",
       "      <th></th>\n",
       "      <th>Days_in_Milk</th>\n",
       "      <th>Is_Milked</th>\n",
       "      <th>Lactation_Num</th>\n",
       "      <th>Yield (gr)</th>\n",
       "      <th>Conductivity</th>\n",
       "      <th>Fat (%)</th>\n",
       "      <th>Protein (%)</th>\n",
       "      <th>Lactose (%)</th>\n",
       "      <th>Blood (%)</th>\n",
       "      <th>SCC (*1000/ml)</th>\n",
       "      <th>Activity (steps/hour)</th>\n",
       "      <th>RestTime (minutes)</th>\n",
       "      <th>RestBout (#)</th>\n",
       "      <th>ProdRate (gr/hour)</th>\n",
       "      <th>RestRatio (%)</th>\n",
       "      <th>RestRestlessness</th>\n",
       "      <th>RestPerBout (minutes)</th>\n",
       "      <th>ActivityDeviation (%)</th>\n",
       "      <th>label</th>\n",
       "    </tr>\n",
       "  </thead>\n",
       "  <tbody>\n",
       "    <tr>\n",
       "      <th>0</th>\n",
       "      <td>58</td>\n",
       "      <td>1</td>\n",
       "      <td>3</td>\n",
       "      <td>52840</td>\n",
       "      <td>93.0</td>\n",
       "      <td>3.32</td>\n",
       "      <td>2.96</td>\n",
       "      <td>4.50</td>\n",
       "      <td>0.03</td>\n",
       "      <td>56623.962</td>\n",
       "      <td>139</td>\n",
       "      <td>613</td>\n",
       "      <td>12</td>\n",
       "      <td>2201</td>\n",
       "      <td>43</td>\n",
       "      <td>26</td>\n",
       "      <td>51</td>\n",
       "      <td>-4.0</td>\n",
       "      <td>0</td>\n",
       "    </tr>\n",
       "    <tr>\n",
       "      <th>1</th>\n",
       "      <td>62</td>\n",
       "      <td>1</td>\n",
       "      <td>3</td>\n",
       "      <td>54376</td>\n",
       "      <td>95.0</td>\n",
       "      <td>3.10</td>\n",
       "      <td>2.90</td>\n",
       "      <td>4.45</td>\n",
       "      <td>0.05</td>\n",
       "      <td>7516.227</td>\n",
       "      <td>138</td>\n",
       "      <td>499</td>\n",
       "      <td>10</td>\n",
       "      <td>2265</td>\n",
       "      <td>35</td>\n",
       "      <td>34</td>\n",
       "      <td>50</td>\n",
       "      <td>4.0</td>\n",
       "      <td>0</td>\n",
       "    </tr>\n",
       "    <tr>\n",
       "      <th>2</th>\n",
       "      <td>66</td>\n",
       "      <td>1</td>\n",
       "      <td>3</td>\n",
       "      <td>58753</td>\n",
       "      <td>95.0</td>\n",
       "      <td>3.12</td>\n",
       "      <td>2.89</td>\n",
       "      <td>4.56</td>\n",
       "      <td>0.01</td>\n",
       "      <td>13458.609</td>\n",
       "      <td>166</td>\n",
       "      <td>498</td>\n",
       "      <td>13</td>\n",
       "      <td>2448</td>\n",
       "      <td>34</td>\n",
       "      <td>37</td>\n",
       "      <td>38</td>\n",
       "      <td>16.0</td>\n",
       "      <td>0</td>\n",
       "    </tr>\n",
       "    <tr>\n",
       "      <th>3</th>\n",
       "      <td>70</td>\n",
       "      <td>1</td>\n",
       "      <td>3</td>\n",
       "      <td>57293</td>\n",
       "      <td>96.0</td>\n",
       "      <td>3.23</td>\n",
       "      <td>2.95</td>\n",
       "      <td>4.60</td>\n",
       "      <td>0.04</td>\n",
       "      <td>311.171</td>\n",
       "      <td>141</td>\n",
       "      <td>733</td>\n",
       "      <td>10</td>\n",
       "      <td>2387</td>\n",
       "      <td>53</td>\n",
       "      <td>20</td>\n",
       "      <td>73</td>\n",
       "      <td>1.0</td>\n",
       "      <td>0</td>\n",
       "    </tr>\n",
       "    <tr>\n",
       "      <th>4</th>\n",
       "      <td>74</td>\n",
       "      <td>1</td>\n",
       "      <td>3</td>\n",
       "      <td>54363</td>\n",
       "      <td>95.0</td>\n",
       "      <td>3.67</td>\n",
       "      <td>2.98</td>\n",
       "      <td>4.44</td>\n",
       "      <td>0.04</td>\n",
       "      <td>30974.205</td>\n",
       "      <td>139</td>\n",
       "      <td>613</td>\n",
       "      <td>10</td>\n",
       "      <td>2265</td>\n",
       "      <td>42</td>\n",
       "      <td>26</td>\n",
       "      <td>61</td>\n",
       "      <td>2.0</td>\n",
       "      <td>0</td>\n",
       "    </tr>\n",
       "    <tr>\n",
       "      <th>5</th>\n",
       "      <td>59</td>\n",
       "      <td>1</td>\n",
       "      <td>3</td>\n",
       "      <td>45885</td>\n",
       "      <td>94.0</td>\n",
       "      <td>3.45</td>\n",
       "      <td>2.95</td>\n",
       "      <td>4.53</td>\n",
       "      <td>0.03</td>\n",
       "      <td>11803.207</td>\n",
       "      <td>133</td>\n",
       "      <td>676</td>\n",
       "      <td>12</td>\n",
       "      <td>1911</td>\n",
       "      <td>47</td>\n",
       "      <td>20</td>\n",
       "      <td>56</td>\n",
       "      <td>-10.0</td>\n",
       "      <td>0</td>\n",
       "    </tr>\n",
       "  </tbody>\n",
       "</table>\n",
       "</div>"
      ],
      "text/plain": [
       "   Days_in_Milk  Is_Milked  Lactation_Num  Yield (gr)  Conductivity  Fat (%)  \\\n",
       "0            58          1              3       52840          93.0     3.32   \n",
       "1            62          1              3       54376          95.0     3.10   \n",
       "2            66          1              3       58753          95.0     3.12   \n",
       "3            70          1              3       57293          96.0     3.23   \n",
       "4            74          1              3       54363          95.0     3.67   \n",
       "5            59          1              3       45885          94.0     3.45   \n",
       "\n",
       "   Protein (%)  Lactose (%)  Blood (%)  SCC (*1000/ml)  Activity (steps/hour)  \\\n",
       "0         2.96         4.50       0.03       56623.962                    139   \n",
       "1         2.90         4.45       0.05        7516.227                    138   \n",
       "2         2.89         4.56       0.01       13458.609                    166   \n",
       "3         2.95         4.60       0.04         311.171                    141   \n",
       "4         2.98         4.44       0.04       30974.205                    139   \n",
       "5         2.95         4.53       0.03       11803.207                    133   \n",
       "\n",
       "   RestTime (minutes)  RestBout (#)  ProdRate (gr/hour)  RestRatio (%)  \\\n",
       "0                 613            12                2201             43   \n",
       "1                 499            10                2265             35   \n",
       "2                 498            13                2448             34   \n",
       "3                 733            10                2387             53   \n",
       "4                 613            10                2265             42   \n",
       "5                 676            12                1911             47   \n",
       "\n",
       "   RestRestlessness  RestPerBout (minutes)  ActivityDeviation (%)  label  \n",
       "0                26                     51                   -4.0      0  \n",
       "1                34                     50                    4.0      0  \n",
       "2                37                     38                   16.0      0  \n",
       "3                20                     73                    1.0      0  \n",
       "4                26                     61                    2.0      0  \n",
       "5                20                     56                  -10.0      0  "
      ]
     },
     "execution_count": 57,
     "metadata": {},
     "output_type": "execute_result"
    }
   ],
   "source": [
    "print(data.shape)\n",
    "data.head(6)"
   ]
  },
  {
   "cell_type": "code",
   "execution_count": 72,
   "metadata": {},
   "outputs": [
    {
     "name": "stdout",
     "output_type": "stream",
     "text": [
      "(14132, 19)\n",
      "(14132, 19)\n"
     ]
    }
   ],
   "source": [
    "# data.drop(labels=None, axis = 0, index=0, inplace=True)\n",
    "data.head()\n",
    "print(data.shape)\n",
    "\n",
    "data.fillna(0, inplace=True)\n",
    "row_mask=data.notnull().any(axis=1)\n",
    "for i in row_mask:\n",
    "    if i == False:\n",
    "        data.drop(labels=None,axis=1, index=i, inplace=True)\n",
    "print(data.shape)"
   ]
  },
  {
   "cell_type": "code",
   "execution_count": 73,
   "metadata": {},
   "outputs": [
    {
     "name": "stdout",
     "output_type": "stream",
     "text": [
      "[[ True]]\n",
      "1000\n",
      "2000\n",
      "3000\n",
      "4000\n",
      "5000\n",
      "6000\n",
      "7000\n",
      "8000\n",
      "9000\n",
      "10000\n",
      "11000\n",
      "12000\n",
      "13000\n",
      "14000\n"
     ]
    }
   ],
   "source": [
    "i = 0\n",
    "print(np.isfinite(data.iloc[i:i+1,i:1].values))\n",
    "# data.shape\n",
    "count = 0\n",
    "for i in range (data.shape[0]):\n",
    "    count += 1\n",
    "    if count % 1000 == 0:\n",
    "        print(count)\n",
    "    for j in range(data.shape[1]):\n",
    "        if not np.isfinite(data.iloc[i:i+1,j:j+1].values):# True if the input is finite\n",
    "            data.drop(labels=None,axis=1, index=i, inplace=True)\n",
    "            break\n",
    "        "
   ]
  },
  {
   "cell_type": "code",
   "execution_count": 74,
   "metadata": {},
   "outputs": [
    {
     "data": {
      "text/plain": [
       "(14132, 19)"
      ]
     },
     "execution_count": 74,
     "metadata": {},
     "output_type": "execute_result"
    }
   ],
   "source": [
    "data.shape"
   ]
  },
  {
   "cell_type": "code",
   "execution_count": 75,
   "metadata": {},
   "outputs": [
    {
     "data": {
      "text/plain": [
       "(11305,)"
      ]
     },
     "execution_count": 75,
     "metadata": {},
     "output_type": "execute_result"
    }
   ],
   "source": [
    "X = data.iloc[:, :-1]\n",
    "y = data.iloc[:, -1]\n",
    "X\n",
    "\n",
    "le = LabelEncoder()\n",
    "y = le.fit_transform(y)\n",
    "X_trn, X_tst, y_trn, y_tst = train_test_split(X, y, test_size=0.2, random_state=42)\n",
    "# # y_trn\n",
    "# for s in X_trn.iloc[1:2]:\n",
    "#     print(s)\n",
    "# print(X.shape)\n",
    "y_trn.shape"
   ]
  },
  {
   "cell_type": "code",
   "execution_count": 78,
   "metadata": {},
   "outputs": [
    {
     "name": "stdout",
     "output_type": "stream",
     "text": [
      "Err_Train= 0.6602388323750553, Err_Test = 0.6582950123806155\n"
     ]
    }
   ],
   "source": [
    "##Bagging and Forest Tree\n",
    "from sklearn.ensemble import BaggingClassifier\n",
    "from sklearn.metrics import accuracy_score\n",
    "from sklearn.tree import DecisionTreeClassifier\n",
    "from sklearn.ensemble import AdaBoostClassifier\n",
    "\n",
    "clf = DecisionTreeClassifier(criterion = \"entropy\", max_depth = 5)\n",
    "model = clf.fit(X_trn, y_trn)\n",
    "y_pre_tst = clf.predict(X_tst)\n",
    "y_pre_trn = clf.predict(X_trn)\n",
    "Err_Train = accuracy_score(y_pre_trn, y_trn)\n",
    "Err_Test = accuracy_score(y_pre_tst, y_tst)\n",
    "print(\"Err_Train= {}, Err_Test = {}\".format(Err_Train,Err_Test))"
   ]
  },
  {
   "cell_type": "code",
   "execution_count": null,
   "metadata": {},
   "outputs": [],
   "source": []
  }
 ],
 "metadata": {
  "kernelspec": {
   "display_name": "tensorflow",
   "language": "python",
   "name": "tensorflow"
  },
  "language_info": {
   "codemirror_mode": {
    "name": "ipython",
    "version": 3
   },
   "file_extension": ".py",
   "mimetype": "text/x-python",
   "name": "python",
   "nbconvert_exporter": "python",
   "pygments_lexer": "ipython3",
   "version": "3.6.6"
  }
 },
 "nbformat": 4,
 "nbformat_minor": 2
}
