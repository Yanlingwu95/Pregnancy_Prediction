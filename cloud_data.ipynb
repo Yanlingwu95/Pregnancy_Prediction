{
  "nbformat": 4,
  "nbformat_minor": 0,
  "metadata": {
    "colab": {
      "name": "cloud_data.ipynb",
      "version": "0.3.2",
      "provenance": [],
      "collapsed_sections": [],
      "include_colab_link": true
    },
    "kernelspec": {
      "name": "python3",
      "display_name": "Python 3"
    },
    "accelerator": "GPU"
  },
  "cells": [
    {
      "cell_type": "markdown",
      "metadata": {
        "id": "view-in-github",
        "colab_type": "text"
      },
      "source": [
        "<a href=\"https://colab.research.google.com/github/Yanlingwu95/Pregnancy_Prediction/blob/master/cloud_data.ipynb\" target=\"_parent\"><img src=\"https://colab.research.google.com/assets/colab-badge.svg\" alt=\"Open In Colab\"/></a>"
      ]
    },
    {
      "metadata": {
        "id": "tB5KH4X33au_",
        "colab_type": "code",
        "outputId": "59e3be3a-2915-493c-ff75-aa898e6202e5",
        "colab": {
          "base_uri": "https://localhost:8080/",
          "height": 243
        }
      },
      "cell_type": "code",
      "source": [
        "# 授权绑定Google Drive \n",
        "!apt-get install -y -qq software-properties-common python-software-properties module-init-tools \n",
        "!add-apt-repository -y ppa:alessandro-strada/ppa 2>&1 > /dev/null \n",
        "!apt-get update -qq 2>&1 > /dev/null \n",
        "!apt-get -y install -qq google-drive-ocamlfuse fuse \n",
        "from google.colab import auth \n",
        "auth.authenticate_user() \n",
        "from oauth2client.client import GoogleCredentials \n",
        "creds = GoogleCredentials.get_application_default() \n",
        "import getpass \n",
        "!google-drive-ocamlfuse -headless -id={creds.client_id} -secret={creds.client_secret} < /dev/null 2>&1 | grep URL \n",
        "vcode = getpass.getpass()\n",
        "!echo {vcode} | google-drive-ocamlfuse -headless -id={creds.client_id} -secret={creds.client_secret}\n"
      ],
      "execution_count": 0,
      "outputs": [
        {
          "output_type": "stream",
          "text": [
            "E: Package 'python-software-properties' has no installation candidate\n",
            "Selecting previously unselected package google-drive-ocamlfuse.\n",
            "(Reading database ... 131304 files and directories currently installed.)\n",
            "Preparing to unpack .../google-drive-ocamlfuse_0.7.3-0ubuntu3~ubuntu18.04.1_amd64.deb ...\n",
            "Unpacking google-drive-ocamlfuse (0.7.3-0ubuntu3~ubuntu18.04.1) ...\n",
            "Setting up google-drive-ocamlfuse (0.7.3-0ubuntu3~ubuntu18.04.1) ...\n",
            "Processing triggers for man-db (2.8.3-2ubuntu0.1) ...\n",
            "Please, open the following URL in a web browser: https://accounts.google.com/o/oauth2/auth?client_id=32555940559.apps.googleusercontent.com&redirect_uri=urn%3Aietf%3Awg%3Aoauth%3A2.0%3Aoob&scope=https%3A%2F%2Fwww.googleapis.com%2Fauth%2Fdrive&response_type=code&access_type=offline&approval_prompt=force\n",
            "··········\n",
            "Please, open the following URL in a web browser: https://accounts.google.com/o/oauth2/auth?client_id=32555940559.apps.googleusercontent.com&redirect_uri=urn%3Aietf%3Awg%3Aoauth%3A2.0%3Aoob&scope=https%3A%2F%2Fwww.googleapis.com%2Fauth%2Fdrive&response_type=code&access_type=offline&approval_prompt=force\n",
            "Please enter the verification code: Access token retrieved correctly.\n"
          ],
          "name": "stdout"
        }
      ]
    },
    {
      "metadata": {
        "id": "rdBUa6RS3iO7",
        "colab_type": "code",
        "outputId": "5e785177-db62-4446-c8ee-1097e15c12da",
        "colab": {
          "base_uri": "https://localhost:8080/",
          "height": 148
        }
      },
      "cell_type": "code",
      "source": [
        "# 指定Google Drive云端硬盘的根目录，名为drive\n",
        "!mkdir -p drive\n",
        "!google-drive-ocamlfuse drive\n",
        "\n",
        "# 指定当前的工作目录\n",
        "import os\n",
        "\n",
        "# 此处为google drive中的文件路径,drive为之前指定的工作根目录，要加上\n",
        "os.chdir(\"drive/CS5412_Cloud_Computing/Digital Agriculture\") \n",
        "\n",
        "\n",
        "# 查看文件目录，是否包含所需的文件\n",
        "!ls"
      ],
      "execution_count": 13,
      "outputs": [
        {
          "output_type": "stream",
          "text": [
            "'AfiFarm_Daily data_Walnut Ridge_20180819 (April-Aug).xlsx'\n",
            "'AFI FARM wetransfer-b77a2a  (Aug-Dec).zip'\n",
            " cloud_data.ipynb\n",
            "'Copy of Repro all cows.XLS'\n",
            "'Data Explanation.pdf'\n",
            " drive\n",
            "'Environmental data.csv'\n"
          ],
          "name": "stdout"
        }
      ]
    },
    {
      "metadata": {
        "id": "2F1bgOPH3FKI",
        "colab_type": "code",
        "colab": {}
      },
      "cell_type": "code",
      "source": [
        "import pandas as pd\n",
        "import numpy as np\n",
        "import matplotlib.pyplot as plt\n",
        "%matplotlib inline\n",
        "from sklearn.utils import shuffle\n",
        "from sklearn.preprocessing import LabelEncoder\n",
        "from sklearn.model_selection import train_test_split\n"
      ],
      "execution_count": 0,
      "outputs": []
    },
    {
      "metadata": {
        "id": "lcTEhv7G7SM3",
        "colab_type": "text"
      },
      "cell_type": "markdown",
      "source": [
        ""
      ]
    },
    {
      "metadata": {
        "id": "5WPpT1Ed3FKS",
        "colab_type": "code",
        "outputId": "cfee7010-024b-4377-cbad-fd3d8ca3eec0",
        "colab": {
          "base_uri": "https://localhost:8080/",
          "height": 342
        }
      },
      "cell_type": "code",
      "source": [
        "data = pd.read_excel('./Copy of Repro all cows.XLS')\n",
        "data_afi = pd.read_excel('./AfiFarm_Daily data_Walnut Ridge_20180819 (April-Aug).xlsx')\n",
        "\n",
        "data.head(5)\n"
      ],
      "execution_count": 222,
      "outputs": [
        {
          "output_type": "execute_result",
          "data": {
            "text/html": [
              "<div>\n",
              "<style scoped>\n",
              "    .dataframe tbody tr th:only-of-type {\n",
              "        vertical-align: middle;\n",
              "    }\n",
              "\n",
              "    .dataframe tbody tr th {\n",
              "        vertical-align: top;\n",
              "    }\n",
              "\n",
              "    .dataframe thead th {\n",
              "        text-align: right;\n",
              "    }\n",
              "</style>\n",
              "<table border=\"1\" class=\"dataframe\">\n",
              "  <thead>\n",
              "    <tr style=\"text-align: right;\">\n",
              "      <th></th>\n",
              "      <th>ID</th>\n",
              "      <th>FDAT</th>\n",
              "      <th>LACT</th>\n",
              "      <th>bolus</th>\n",
              "      <th>DATB1</th>\n",
              "      <th>First Breeding</th>\n",
              "      <th>DIMB1</th>\n",
              "      <th>CODB1</th>\n",
              "      <th>OUTB1</th>\n",
              "      <th>DATB2</th>\n",
              "      <th>...</th>\n",
              "      <th>ABDIM2</th>\n",
              "      <th>ABDAT3</th>\n",
              "      <th>ABDIM3</th>\n",
              "      <th>ABDAT4</th>\n",
              "      <th>ABDIM4</th>\n",
              "      <th>ABDAT5</th>\n",
              "      <th>DCCPR1</th>\n",
              "      <th>DCCPR2</th>\n",
              "      <th>DCCPR3</th>\n",
              "      <th>DCCPR4</th>\n",
              "    </tr>\n",
              "  </thead>\n",
              "  <tbody>\n",
              "    <tr>\n",
              "      <th>0</th>\n",
              "      <td>1</td>\n",
              "      <td>2018-06-04</td>\n",
              "      <td>3</td>\n",
              "      <td>.</td>\n",
              "      <td>2018-08-09</td>\n",
              "      <td>Thu</td>\n",
              "      <td>66</td>\n",
              "      <td>T</td>\n",
              "      <td>O</td>\n",
              "      <td>2018-09-04 00:00:00</td>\n",
              "      <td>...</td>\n",
              "      <td>.</td>\n",
              "      <td>.</td>\n",
              "      <td>.</td>\n",
              "      <td>.</td>\n",
              "      <td>.</td>\n",
              "      <td>.</td>\n",
              "      <td>34DAYS</td>\n",
              "      <td>62DAYS</td>\n",
              "      <td>.</td>\n",
              "      <td>.</td>\n",
              "    </tr>\n",
              "    <tr>\n",
              "      <th>1</th>\n",
              "      <td>2</td>\n",
              "      <td>2018-06-04</td>\n",
              "      <td>2</td>\n",
              "      <td>.</td>\n",
              "      <td>2018-08-09</td>\n",
              "      <td>Thu</td>\n",
              "      <td>66</td>\n",
              "      <td>T</td>\n",
              "      <td>O</td>\n",
              "      <td>2018-08-31 00:00:00</td>\n",
              "      <td>...</td>\n",
              "      <td>.</td>\n",
              "      <td>.</td>\n",
              "      <td>.</td>\n",
              "      <td>.</td>\n",
              "      <td>.</td>\n",
              "      <td>.</td>\n",
              "      <td>31DAYS</td>\n",
              "      <td>66DAYS</td>\n",
              "      <td>.</td>\n",
              "      <td>.</td>\n",
              "    </tr>\n",
              "    <tr>\n",
              "      <th>2</th>\n",
              "      <td>3</td>\n",
              "      <td>2018-09-17</td>\n",
              "      <td>2</td>\n",
              "      <td>.</td>\n",
              "      <td>2018-11-22</td>\n",
              "      <td>Thu</td>\n",
              "      <td>66</td>\n",
              "      <td>T</td>\n",
              "      <td>O</td>\n",
              "      <td>2018-12-17 00:00:00</td>\n",
              "      <td>...</td>\n",
              "      <td>.</td>\n",
              "      <td>.</td>\n",
              "      <td>.</td>\n",
              "      <td>.</td>\n",
              "      <td>.</td>\n",
              "      <td>.</td>\n",
              "      <td>31DAYS</td>\n",
              "      <td>.</td>\n",
              "      <td>.</td>\n",
              "      <td>.</td>\n",
              "    </tr>\n",
              "    <tr>\n",
              "      <th>3</th>\n",
              "      <td>10</td>\n",
              "      <td>2018-12-28</td>\n",
              "      <td>3</td>\n",
              "      <td>1700003117G8V</td>\n",
              "      <td>2019-03-07</td>\n",
              "      <td>Thu</td>\n",
              "      <td>69</td>\n",
              "      <td>T</td>\n",
              "      <td>O</td>\n",
              "      <td>2019-03-14 00:00:00</td>\n",
              "      <td>...</td>\n",
              "      <td>.</td>\n",
              "      <td>.</td>\n",
              "      <td>.</td>\n",
              "      <td>.</td>\n",
              "      <td>.</td>\n",
              "      <td>.</td>\n",
              "      <td>.</td>\n",
              "      <td>.</td>\n",
              "      <td>.</td>\n",
              "      <td>.</td>\n",
              "    </tr>\n",
              "    <tr>\n",
              "      <th>4</th>\n",
              "      <td>18</td>\n",
              "      <td>2018-10-09</td>\n",
              "      <td>3</td>\n",
              "      <td>.</td>\n",
              "      <td>2018-12-13</td>\n",
              "      <td>Thu</td>\n",
              "      <td>65</td>\n",
              "      <td>T</td>\n",
              "      <td>P</td>\n",
              "      <td>.</td>\n",
              "      <td>...</td>\n",
              "      <td>.</td>\n",
              "      <td>.</td>\n",
              "      <td>.</td>\n",
              "      <td>.</td>\n",
              "      <td>.</td>\n",
              "      <td>.</td>\n",
              "      <td>32DAYS</td>\n",
              "      <td>60DAYS</td>\n",
              "      <td>.</td>\n",
              "      <td>.</td>\n",
              "    </tr>\n",
              "  </tbody>\n",
              "</table>\n",
              "<p>5 rows × 80 columns</p>\n",
              "</div>"
            ],
            "text/plain": [
              "   ID       FDAT  LACT           bolus      DATB1 First Breeding  DIMB1 CODB1  \\\n",
              "0   1 2018-06-04     3               . 2018-08-09            Thu     66     T   \n",
              "1   2 2018-06-04     2               . 2018-08-09            Thu     66     T   \n",
              "2   3 2018-09-17     2               . 2018-11-22            Thu     66     T   \n",
              "3  10 2018-12-28     3  1700003117G8V  2019-03-07            Thu     69     T   \n",
              "4  18 2018-10-09     3               . 2018-12-13            Thu     65     T   \n",
              "\n",
              "  OUTB1                DATB2  ...   ABDIM2 ABDAT3 ABDIM3 ABDAT4 ABDIM4 ABDAT5  \\\n",
              "0     O  2018-09-04 00:00:00  ...        .      .      .      .      .      .   \n",
              "1     O  2018-08-31 00:00:00  ...        .      .      .      .      .      .   \n",
              "2     O  2018-12-17 00:00:00  ...        .      .      .      .      .      .   \n",
              "3     O  2019-03-14 00:00:00  ...        .      .      .      .      .      .   \n",
              "4     P                    .  ...        .      .      .      .      .      .   \n",
              "\n",
              "      DCCPR1     DCCPR2 DCCPR3 DCCPR4  \n",
              "0  34DAYS     62DAYS         .      .  \n",
              "1  31DAYS     66DAYS         .      .  \n",
              "2  31DAYS             .      .      .  \n",
              "3          .          .      .      .  \n",
              "4  32DAYS     60DAYS         .      .  \n",
              "\n",
              "[5 rows x 80 columns]"
            ]
          },
          "metadata": {
            "tags": []
          },
          "execution_count": 222
        }
      ]
    },
    {
      "metadata": {
        "id": "I23xRa_k3FKa",
        "colab_type": "code",
        "outputId": "f8b5e9fc-f03e-4b17-d5df-a5acbd4a8b76",
        "colab": {
          "base_uri": "https://localhost:8080/",
          "height": 36
        }
      },
      "cell_type": "code",
      "source": [
        "ID = data[\"ID\"].unique()\n",
        "ID.shape\n",
        "data[\"First Breeding\"][0]"
      ],
      "execution_count": 223,
      "outputs": [
        {
          "output_type": "execute_result",
          "data": {
            "text/plain": [
              "'Thu'"
            ]
          },
          "metadata": {
            "tags": []
          },
          "execution_count": 223
        }
      ]
    },
    {
      "metadata": {
        "id": "YCxwVQ1-3FKj",
        "colab_type": "code",
        "outputId": "eba39c5f-a251-4ac1-8666-7eddc38470f3",
        "colab": {
          "base_uri": "https://localhost:8080/",
          "height": 36
        }
      },
      "cell_type": "code",
      "source": [
        "data_afi.head(5)\n",
        "id_afi = data_afi[\"Animal_ID\"].unique()\n",
        "id_afi.shape\n",
        "col = data.columns\n",
        "\n",
        "li = []\n",
        "for s in col:\n",
        "    li.append(data[s])\n",
        "len(li[0])\n",
        "\n",
        "data.iloc[0:3,:].shape\n",
        "# data_afi[\"Animal_ID\"]\n"
      ],
      "execution_count": 224,
      "outputs": [
        {
          "output_type": "execute_result",
          "data": {
            "text/plain": [
              "(3, 80)"
            ]
          },
          "metadata": {
            "tags": []
          },
          "execution_count": 224
        }
      ]
    },
    {
      "metadata": {
        "id": "pdP3vtab3FKp",
        "colab_type": "code",
        "colab": {}
      },
      "cell_type": "code",
      "source": [
        "data_dic = {}\n",
        "for i in range(ID.shape[0]): \n",
        "    data_dic[ID[i]] = [data.iloc[i,:]]\n",
        "\n",
        "# for i in range(data_afi[\"Animal_ID\"].shape[0]):\n",
        "#     if data_afi[\"Animal_ID\"][i] in ID:\n",
        "#         data_dic[data_afi[\"Animal_ID\"][i]].append(data_afi.iloc[i,:])"
      ],
      "execution_count": 0,
      "outputs": []
    },
    {
      "metadata": {
        "id": "H5dIcrgYC8TD",
        "colab_type": "code",
        "colab": {}
      },
      "cell_type": "code",
      "source": [
        "for i in range(data_afi[\"Animal_ID\"].shape[0]):\n",
        "    if data_afi[\"Animal_ID\"][i] in ID:\n",
        "        data_dic[data_afi[\"Animal_ID\"][i]].append(data_afi.iloc[i,:])"
      ],
      "execution_count": 0,
      "outputs": []
    },
    {
      "metadata": {
        "id": "ON90L1G3ELkm",
        "colab_type": "code",
        "colab": {
          "base_uri": "https://localhost:8080/",
          "height": 56
        },
        "outputId": "d15cf577-cd47-4f62-8671-6fb7101c9f1c"
      },
      "cell_type": "code",
      "source": [
        "def findData(list1, dic, key):\n",
        "    ind = 8\n",
        "    listp = []\n",
        "    listo = []\n",
        "    while(ind < len(list1)):\n",
        "        if list1[ind] == 'P':\n",
        "            listp.append(list1[ind-4])\n",
        "            break\n",
        "        elif list1[ind] == 'O':\n",
        "            listo.append(list1[ind-4])\n",
        "            ind += 5\n",
        "        else:\n",
        "            break\n",
        "    dic[key] = [listp, listo]\n",
        "\n",
        "threshold = datetime.datetime(2019, 1, 22, 0, 0) - datetime.datetime(2019, 1, 12, 0, 0)    \n",
        "time_dic = {}\n",
        "for key in data_dic:\n",
        "    findData(data_dic[key][0],time_dic,key)\n",
        "\n",
        "                    \n",
        "    \n",
        "\n",
        "print((time_dic[3]))\n",
        "\n",
        "\n",
        "        "
      ],
      "execution_count": 227,
      "outputs": [
        {
          "output_type": "stream",
          "text": [
            "[[datetime.datetime(2019, 2, 15, 0, 0)], [Timestamp('2018-11-22 00:00:00'), datetime.datetime(2018, 12, 17, 0, 0), datetime.datetime(2019, 1, 22, 0, 0)]]\n"
          ],
          "name": "stdout"
        }
      ]
    },
    {
      "metadata": {
        "id": "CFHJFyTLXCWx",
        "colab_type": "code",
        "colab": {
          "base_uri": "https://localhost:8080/",
          "height": 92
        },
        "outputId": "1d72d727-7b94-4446-e77a-d3ad68ee471b"
      },
      "cell_type": "code",
      "source": [
        "# print(time_dic[300])\n",
        "count = 0\n",
        "def createSet(time_list, afi_table, threshold, dataset):\n",
        "    \n",
        "    for li in afi_table:\n",
        "        \n",
        "        if time_list[0] != [] and abs(li[2] - time_list[0][0]) < threshold: \n",
        "#             print(\"A\")\n",
        "            dataset.append([li[3:],1])\n",
        "        else: \n",
        "#             print(\"B\")\n",
        "            for time_o in time_list[1]:\n",
        "                if abs(li[2] - time_o) < threshold: \n",
        "                    dataset.append([li[3:],0])\n",
        "                    break\n",
        "                \n",
        "dataset = []\n",
        "# createSet(time_dic[1],data_dic[1][1:],threshold, dataset)\n",
        "for key in time_dic:\n",
        "    createSet(time_dic[key],data_dic[key][1:],threshold, dataset)\n",
        "    count += 1\n",
        "    if (count % 500 == 0):\n",
        "        print(count)\n",
        "print(len(dataset))"
      ],
      "execution_count": 228,
      "outputs": [
        {
          "output_type": "stream",
          "text": [
            "500\n",
            "1000\n",
            "1500\n",
            "14132\n"
          ],
          "name": "stdout"
        }
      ]
    },
    {
      "metadata": {
        "id": "e1nzUGq8txgb",
        "colab_type": "code",
        "colab": {
          "base_uri": "https://localhost:8080/",
          "height": 391
        },
        "outputId": "f841f8a7-16b6-4357-de2c-4fd78d317709"
      },
      "cell_type": "code",
      "source": [
        "print((dataset[0]))  "
      ],
      "execution_count": 229,
      "outputs": [
        {
          "output_type": "stream",
          "text": [
            "[Dry_Days                     0\n",
            "Days_in_Milk                58\n",
            "Is_Milked                    1\n",
            "Lactation_Num                3\n",
            "Yield (gr)               52840\n",
            "Conductivity                93\n",
            "Fat (%)                   3.32\n",
            "Protein (%)               2.96\n",
            "Lactose (%)                4.5\n",
            "Blood (%)                 0.03\n",
            "SCC (*1000/ml)           56624\n",
            "Activity (steps/hour)      139\n",
            "RestTime (minutes)         613\n",
            "RestBout (#)                12\n",
            "ProdRate (gr/hour)        2201\n",
            "RestRatio (%)               43\n",
            "RestRestlessness            26\n",
            "RestPerBout (minutes)       51\n",
            "ActivityDeviation (%)       -4\n",
            "Name: 14, dtype: object, 0]\n"
          ],
          "name": "stdout"
        }
      ]
    },
    {
      "metadata": {
        "id": "jR5Wb4AIZgXz",
        "colab_type": "code",
        "colab": {
          "base_uri": "https://localhost:8080/",
          "height": 54
        },
        "outputId": "0247edae-718f-46d4-ed27-db44b543206b"
      },
      "cell_type": "code",
      "source": [
        "import csv\n",
        "import numpy as np\n",
        "\n",
        "print(type(dataset))    \n",
        "\n",
        "\n",
        "data_new = []\n",
        "for data in dataset:\n",
        "    temp = []\n",
        "    for p in data[0]:\n",
        "        temp.append(p)\n",
        "    temp.append(data[1])\n",
        "    data_new.append(temp)\n",
        "print(len(data_new), len(data_new[0]))\n",
        "data_set_new = pd.DataFrame(data_new)\n"
      ],
      "execution_count": 230,
      "outputs": [
        {
          "output_type": "stream",
          "text": [
            "<class 'list'>\n",
            "14132 20\n"
          ],
          "name": "stdout"
        }
      ]
    },
    {
      "metadata": {
        "id": "PaGwUYESc48V",
        "colab_type": "code",
        "colab": {
          "base_uri": "https://localhost:8080/",
          "height": 36
        },
        "outputId": "9e8cba2f-aeb1-4e05-8d18-c120bacf1b9c"
      },
      "cell_type": "code",
      "source": [
        "columns_afi = data_afi.columns\n",
        "columns_afi = columns_afi[3:]\n",
        "print(type(columns_afi))\n",
        "columns = ['Dry_Days', 'Days_in_Milk', 'Is_Milked', 'Lactation_Num', 'Yield (gr)',\n",
        "       'Conductivity', 'Fat (%)', 'Protein (%)', 'Lactose (%)', 'Blood (%)',\n",
        "       'SCC (*1000/ml)', 'Activity (steps/hour)', 'RestTime (minutes)',\n",
        "       'RestBout (#)', 'ProdRate (gr/hour)', 'RestRatio (%)',\n",
        "       'RestRestlessness', 'RestPerBout (minutes)', 'ActivityDeviation (%)','label']\n",
        "data_set_new.columns = columns"
      ],
      "execution_count": 231,
      "outputs": [
        {
          "output_type": "stream",
          "text": [
            "<class 'pandas.core.indexes.base.Index'>\n"
          ],
          "name": "stdout"
        }
      ]
    },
    {
      "metadata": {
        "id": "jFh0tIsQsNHT",
        "colab_type": "code",
        "colab": {
          "base_uri": "https://localhost:8080/",
          "height": 243
        },
        "outputId": "e343e7b7-ff84-440e-a4b7-d1052f22244e"
      },
      "cell_type": "code",
      "source": [
        "data_set_new.head()"
      ],
      "execution_count": 232,
      "outputs": [
        {
          "output_type": "execute_result",
          "data": {
            "text/html": [
              "<div>\n",
              "<style scoped>\n",
              "    .dataframe tbody tr th:only-of-type {\n",
              "        vertical-align: middle;\n",
              "    }\n",
              "\n",
              "    .dataframe tbody tr th {\n",
              "        vertical-align: top;\n",
              "    }\n",
              "\n",
              "    .dataframe thead th {\n",
              "        text-align: right;\n",
              "    }\n",
              "</style>\n",
              "<table border=\"1\" class=\"dataframe\">\n",
              "  <thead>\n",
              "    <tr style=\"text-align: right;\">\n",
              "      <th></th>\n",
              "      <th>Dry_Days</th>\n",
              "      <th>Days_in_Milk</th>\n",
              "      <th>Is_Milked</th>\n",
              "      <th>Lactation_Num</th>\n",
              "      <th>Yield (gr)</th>\n",
              "      <th>Conductivity</th>\n",
              "      <th>Fat (%)</th>\n",
              "      <th>Protein (%)</th>\n",
              "      <th>Lactose (%)</th>\n",
              "      <th>Blood (%)</th>\n",
              "      <th>SCC (*1000/ml)</th>\n",
              "      <th>Activity (steps/hour)</th>\n",
              "      <th>RestTime (minutes)</th>\n",
              "      <th>RestBout (#)</th>\n",
              "      <th>ProdRate (gr/hour)</th>\n",
              "      <th>RestRatio (%)</th>\n",
              "      <th>RestRestlessness</th>\n",
              "      <th>RestPerBout (minutes)</th>\n",
              "      <th>ActivityDeviation (%)</th>\n",
              "      <th>label</th>\n",
              "    </tr>\n",
              "  </thead>\n",
              "  <tbody>\n",
              "    <tr>\n",
              "      <th>0</th>\n",
              "      <td>0</td>\n",
              "      <td>58</td>\n",
              "      <td>1</td>\n",
              "      <td>3</td>\n",
              "      <td>52840</td>\n",
              "      <td>93.0</td>\n",
              "      <td>3.32</td>\n",
              "      <td>2.96</td>\n",
              "      <td>4.50</td>\n",
              "      <td>0.03</td>\n",
              "      <td>56623.962</td>\n",
              "      <td>139</td>\n",
              "      <td>613</td>\n",
              "      <td>12</td>\n",
              "      <td>2201</td>\n",
              "      <td>43</td>\n",
              "      <td>26</td>\n",
              "      <td>51</td>\n",
              "      <td>-4.0</td>\n",
              "      <td>0</td>\n",
              "    </tr>\n",
              "    <tr>\n",
              "      <th>1</th>\n",
              "      <td>0</td>\n",
              "      <td>62</td>\n",
              "      <td>1</td>\n",
              "      <td>3</td>\n",
              "      <td>54376</td>\n",
              "      <td>95.0</td>\n",
              "      <td>3.10</td>\n",
              "      <td>2.90</td>\n",
              "      <td>4.45</td>\n",
              "      <td>0.05</td>\n",
              "      <td>7516.227</td>\n",
              "      <td>138</td>\n",
              "      <td>499</td>\n",
              "      <td>10</td>\n",
              "      <td>2265</td>\n",
              "      <td>35</td>\n",
              "      <td>34</td>\n",
              "      <td>50</td>\n",
              "      <td>4.0</td>\n",
              "      <td>0</td>\n",
              "    </tr>\n",
              "    <tr>\n",
              "      <th>2</th>\n",
              "      <td>0</td>\n",
              "      <td>66</td>\n",
              "      <td>1</td>\n",
              "      <td>3</td>\n",
              "      <td>58753</td>\n",
              "      <td>95.0</td>\n",
              "      <td>3.12</td>\n",
              "      <td>2.89</td>\n",
              "      <td>4.56</td>\n",
              "      <td>0.01</td>\n",
              "      <td>13458.609</td>\n",
              "      <td>166</td>\n",
              "      <td>498</td>\n",
              "      <td>13</td>\n",
              "      <td>2448</td>\n",
              "      <td>34</td>\n",
              "      <td>37</td>\n",
              "      <td>38</td>\n",
              "      <td>16.0</td>\n",
              "      <td>0</td>\n",
              "    </tr>\n",
              "    <tr>\n",
              "      <th>3</th>\n",
              "      <td>0</td>\n",
              "      <td>70</td>\n",
              "      <td>1</td>\n",
              "      <td>3</td>\n",
              "      <td>57293</td>\n",
              "      <td>96.0</td>\n",
              "      <td>3.23</td>\n",
              "      <td>2.95</td>\n",
              "      <td>4.60</td>\n",
              "      <td>0.04</td>\n",
              "      <td>311.171</td>\n",
              "      <td>141</td>\n",
              "      <td>733</td>\n",
              "      <td>10</td>\n",
              "      <td>2387</td>\n",
              "      <td>53</td>\n",
              "      <td>20</td>\n",
              "      <td>73</td>\n",
              "      <td>1.0</td>\n",
              "      <td>0</td>\n",
              "    </tr>\n",
              "    <tr>\n",
              "      <th>4</th>\n",
              "      <td>0</td>\n",
              "      <td>74</td>\n",
              "      <td>1</td>\n",
              "      <td>3</td>\n",
              "      <td>54363</td>\n",
              "      <td>95.0</td>\n",
              "      <td>3.67</td>\n",
              "      <td>2.98</td>\n",
              "      <td>4.44</td>\n",
              "      <td>0.04</td>\n",
              "      <td>30974.205</td>\n",
              "      <td>139</td>\n",
              "      <td>613</td>\n",
              "      <td>10</td>\n",
              "      <td>2265</td>\n",
              "      <td>42</td>\n",
              "      <td>26</td>\n",
              "      <td>61</td>\n",
              "      <td>2.0</td>\n",
              "      <td>0</td>\n",
              "    </tr>\n",
              "  </tbody>\n",
              "</table>\n",
              "</div>"
            ],
            "text/plain": [
              "   Dry_Days  Days_in_Milk  Is_Milked  Lactation_Num  Yield (gr)  Conductivity  \\\n",
              "0         0            58          1              3       52840          93.0   \n",
              "1         0            62          1              3       54376          95.0   \n",
              "2         0            66          1              3       58753          95.0   \n",
              "3         0            70          1              3       57293          96.0   \n",
              "4         0            74          1              3       54363          95.0   \n",
              "\n",
              "   Fat (%)  Protein (%)  Lactose (%)  Blood (%)  SCC (*1000/ml)  \\\n",
              "0     3.32         2.96         4.50       0.03       56623.962   \n",
              "1     3.10         2.90         4.45       0.05        7516.227   \n",
              "2     3.12         2.89         4.56       0.01       13458.609   \n",
              "3     3.23         2.95         4.60       0.04         311.171   \n",
              "4     3.67         2.98         4.44       0.04       30974.205   \n",
              "\n",
              "   Activity (steps/hour)  RestTime (minutes)  RestBout (#)  \\\n",
              "0                    139                 613            12   \n",
              "1                    138                 499            10   \n",
              "2                    166                 498            13   \n",
              "3                    141                 733            10   \n",
              "4                    139                 613            10   \n",
              "\n",
              "   ProdRate (gr/hour)  RestRatio (%)  RestRestlessness  RestPerBout (minutes)  \\\n",
              "0                2201             43                26                     51   \n",
              "1                2265             35                34                     50   \n",
              "2                2448             34                37                     38   \n",
              "3                2387             53                20                     73   \n",
              "4                2265             42                26                     61   \n",
              "\n",
              "   ActivityDeviation (%)  label  \n",
              "0                   -4.0      0  \n",
              "1                    4.0      0  \n",
              "2                   16.0      0  \n",
              "3                    1.0      0  \n",
              "4                    2.0      0  "
            ]
          },
          "metadata": {
            "tags": []
          },
          "execution_count": 232
        }
      ]
    },
    {
      "metadata": {
        "id": "-7sYB1XSqlm_",
        "colab_type": "code",
        "colab": {}
      },
      "cell_type": "code",
      "source": [
        "data_set_new.to_csv(\"./row_data_sbsb.csv\",index=False,sep=',')\n"
      ],
      "execution_count": 0,
      "outputs": []
    },
    {
      "metadata": {
        "id": "jxuf2tWck8XZ",
        "colab_type": "code",
        "colab": {
          "base_uri": "https://localhost:8080/",
          "height": 175
        },
        "outputId": "0cf52068-e020-4431-c339-08ced8295969"
      },
      "cell_type": "code",
      "source": [
        "dataset_final = dataset[:,0]\n"
      ],
      "execution_count": 190,
      "outputs": [
        {
          "output_type": "error",
          "ename": "TypeError",
          "evalue": "ignored",
          "traceback": [
            "\u001b[0;31m---------------------------------------------------------------------------\u001b[0m",
            "\u001b[0;31mTypeError\u001b[0m                                 Traceback (most recent call last)",
            "\u001b[0;32m<ipython-input-190-de17d348d26b>\u001b[0m in \u001b[0;36m<module>\u001b[0;34m()\u001b[0m\n\u001b[0;32m----> 1\u001b[0;31m \u001b[0mdataset_final\u001b[0m \u001b[0;34m=\u001b[0m \u001b[0mdataset\u001b[0m\u001b[0;34m[\u001b[0m\u001b[0;34m:\u001b[0m\u001b[0;34m,\u001b[0m\u001b[0;36m0\u001b[0m\u001b[0;34m]\u001b[0m\u001b[0;34m\u001b[0m\u001b[0;34m\u001b[0m\u001b[0m\n\u001b[0m",
            "\u001b[0;31mTypeError\u001b[0m: list indices must be integers or slices, not tuple"
          ]
        }
      ]
    },
    {
      "metadata": {
        "id": "kNTik7kUlwIQ",
        "colab_type": "code",
        "colab": {
          "base_uri": "https://localhost:8080/",
          "height": 36
        },
        "outputId": "8508c78c-1f50-4320-a3d3-a2392e9f10ce"
      },
      "cell_type": "code",
      "source": [
        "dataset_final[1].shape"
      ],
      "execution_count": 186,
      "outputs": [
        {
          "output_type": "execute_result",
          "data": {
            "text/plain": [
              "(21,)"
            ]
          },
          "metadata": {
            "tags": []
          },
          "execution_count": 186
        }
      ]
    },
    {
      "metadata": {
        "id": "Z9747pomPxQn",
        "colab_type": "code",
        "colab": {
          "base_uri": "https://localhost:8080/",
          "height": 73
        },
        "outputId": "ecec4558-beca-402c-8d54-d0f01c22677b"
      },
      "cell_type": "code",
      "source": [
        "import datetime\n",
        "print(abs(time_dic[3][1][0] - time_dic[3][1][1]) <threshold)\n",
        "print(time_dic[3][1])\n",
        "\n",
        "threshold"
      ],
      "execution_count": 114,
      "outputs": [
        {
          "output_type": "stream",
          "text": [
            "False\n",
            "[Timestamp('2018-11-22 00:00:00'), datetime.datetime(2018, 12, 17, 0, 0), datetime.datetime(2019, 1, 22, 0, 0)]\n"
          ],
          "name": "stdout"
        },
        {
          "output_type": "execute_result",
          "data": {
            "text/plain": [
              "datetime.timedelta(10)"
            ]
          },
          "metadata": {
            "tags": []
          },
          "execution_count": 114
        }
      ]
    },
    {
      "metadata": {
        "id": "jvLZqDI_ltCa",
        "colab_type": "code",
        "colab": {}
      },
      "cell_type": "code",
      "source": [
        ""
      ],
      "execution_count": 0,
      "outputs": []
    },
    {
      "metadata": {
        "id": "7mcONO6W3FKu",
        "colab_type": "code",
        "colab": {}
      },
      "cell_type": "code",
      "source": [
        "def dateabs(date1,date2):\n",
        "  d1 = date1.split(\"/\")\n",
        "  d2 = date2.split(\"/\")\n",
        "  if abs(int(d1[0]) - int(d2[0]))<=1 and int(d1[2]) == int(d2[2]):\n",
        "    return True\n",
        "  else:\n",
        "    return False"
      ],
      "execution_count": 0,
      "outputs": []
    },
    {
      "metadata": {
        "id": "HPWiQflF7z8c",
        "colab_type": "code",
        "outputId": "b14dc763-83f9-4005-91d6-c4e4bd1edf3a",
        "colab": {
          "base_uri": "https://localhost:8080/",
          "height": 164
        }
      },
      "cell_type": "code",
      "source": [
        "print (dateabs(\"04/12/19\"))"
      ],
      "execution_count": 0,
      "outputs": [
        {
          "output_type": "error",
          "ename": "TypeError",
          "evalue": "ignored",
          "traceback": [
            "\u001b[0;31m---------------------------------------------------------------------------\u001b[0m",
            "\u001b[0;31mTypeError\u001b[0m                                 Traceback (most recent call last)",
            "\u001b[0;32m<ipython-input-10-f78ef16e5aff>\u001b[0m in \u001b[0;36m<module>\u001b[0;34m()\u001b[0m\n\u001b[0;32m----> 1\u001b[0;31m \u001b[0mprint\u001b[0m \u001b[0;34m(\u001b[0m\u001b[0mdateabs\u001b[0m\u001b[0;34m(\u001b[0m\u001b[0;34m\"04/12/19\"\u001b[0m\u001b[0;34m)\u001b[0m\u001b[0;34m)\u001b[0m\u001b[0;34m\u001b[0m\u001b[0;34m\u001b[0m\u001b[0m\n\u001b[0m",
            "\u001b[0;31mTypeError\u001b[0m: dateabs() missing 1 required positional argument: 'date2'"
          ]
        }
      ]
    },
    {
      "metadata": {
        "id": "ec2w3wCUHIZu",
        "colab_type": "code",
        "colab": {
          "base_uri": "https://localhost:8080/",
          "height": 241
        },
        "outputId": "95e5c95e-6a4f-4ae8-a1ef-6a42ca3d7cc7"
      },
      "cell_type": "code",
      "source": [
        "x = (s for s in range(10))\n",
        "y = [m for m in range(10)]\n",
        "print (x)\n",
        "print (y)\n",
        "for b in x:\n",
        "    print (b)\n"
      ],
      "execution_count": 71,
      "outputs": [
        {
          "output_type": "stream",
          "text": [
            "<generator object <genexpr> at 0x7f7f2cddceb8>\n",
            "[0, 1, 2, 3, 4, 5, 6, 7, 8, 9]\n",
            "0\n",
            "1\n",
            "2\n",
            "3\n",
            "4\n",
            "5\n",
            "6\n",
            "7\n",
            "8\n",
            "9\n"
          ],
          "name": "stdout"
        }
      ]
    },
    {
      "metadata": {
        "id": "l7RDd0RcHRum",
        "colab_type": "code",
        "colab": {}
      },
      "cell_type": "code",
      "source": [
        ""
      ],
      "execution_count": 0,
      "outputs": []
    }
  ]
}