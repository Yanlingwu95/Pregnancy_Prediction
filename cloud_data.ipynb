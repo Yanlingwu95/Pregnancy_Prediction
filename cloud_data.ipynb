{
 "cells": [
  {
   "cell_type": "markdown",
   "metadata": {
    "colab_type": "text",
    "id": "view-in-github"
   },
   "source": [
    "<a href=\"https://colab.research.google.com/github/Yanlingwu95/Pregnancy_Prediction/blob/master/cloud_data.ipynb\" target=\"_parent\"><img src=\"https://colab.research.google.com/assets/colab-badge.svg\" alt=\"Open In Colab\"/></a>"
   ]
  },
  {
   "cell_type": "code",
   "execution_count": 0,
   "metadata": {
    "colab": {
     "base_uri": "https://localhost:8080/",
     "height": 243
    },
    "colab_type": "code",
    "id": "tB5KH4X33au_",
    "outputId": "59e3be3a-2915-493c-ff75-aa898e6202e5"
   },
   "outputs": [
    {
     "name": "stdout",
     "output_type": "stream",
     "text": [
      "E: Package 'python-software-properties' has no installation candidate\n",
      "Selecting previously unselected package google-drive-ocamlfuse.\n",
      "(Reading database ... 131304 files and directories currently installed.)\n",
      "Preparing to unpack .../google-drive-ocamlfuse_0.7.3-0ubuntu3~ubuntu18.04.1_amd64.deb ...\n",
      "Unpacking google-drive-ocamlfuse (0.7.3-0ubuntu3~ubuntu18.04.1) ...\n",
      "Setting up google-drive-ocamlfuse (0.7.3-0ubuntu3~ubuntu18.04.1) ...\n",
      "Processing triggers for man-db (2.8.3-2ubuntu0.1) ...\n",
      "Please, open the following URL in a web browser: https://accounts.google.com/o/oauth2/auth?client_id=32555940559.apps.googleusercontent.com&redirect_uri=urn%3Aietf%3Awg%3Aoauth%3A2.0%3Aoob&scope=https%3A%2F%2Fwww.googleapis.com%2Fauth%2Fdrive&response_type=code&access_type=offline&approval_prompt=force\n",
      "··········\n",
      "Please, open the following URL in a web browser: https://accounts.google.com/o/oauth2/auth?client_id=32555940559.apps.googleusercontent.com&redirect_uri=urn%3Aietf%3Awg%3Aoauth%3A2.0%3Aoob&scope=https%3A%2F%2Fwww.googleapis.com%2Fauth%2Fdrive&response_type=code&access_type=offline&approval_prompt=force\n",
      "Please enter the verification code: Access token retrieved correctly.\n"
     ]
    }
   ],
   "source": [
    "# 授权绑定Google Drive \n",
    "!apt-get install -y -qq software-properties-common python-software-properties module-init-tools \n",
    "!add-apt-repository -y ppa:alessandro-strada/ppa 2>&1 > /dev/null \n",
    "!apt-get update -qq 2>&1 > /dev/null \n",
    "!apt-get -y install -qq google-drive-ocamlfuse fuse \n",
    "from google.colab import auth \n",
    "auth.authenticate_user() \n",
    "from oauth2client.client import GoogleCredentials \n",
    "creds = GoogleCredentials.get_application_default() \n",
    "import getpass \n",
    "!google-drive-ocamlfuse -headless -id={creds.client_id} -secret={creds.client_secret} < /dev/null 2>&1 | grep URL \n",
    "vcode = getpass.getpass()\n",
    "!echo {vcode} | google-drive-ocamlfuse -headless -id={creds.client_id} -secret={creds.client_secret}\n"
   ]
  },
  {
   "cell_type": "code",
   "execution_count": 13,
   "metadata": {
    "colab": {
     "base_uri": "https://localhost:8080/",
     "height": 148
    },
    "colab_type": "code",
    "id": "rdBUa6RS3iO7",
    "outputId": "5e785177-db62-4446-c8ee-1097e15c12da"
   },
   "outputs": [
    {
     "name": "stdout",
     "output_type": "stream",
     "text": [
      "'AfiFarm_Daily data_Walnut Ridge_20180819 (April-Aug).xlsx'\n",
      "'AFI FARM wetransfer-b77a2a  (Aug-Dec).zip'\n",
      " cloud_data.ipynb\n",
      "'Copy of Repro all cows.XLS'\n",
      "'Data Explanation.pdf'\n",
      " drive\n",
      "'Environmental data.csv'\n"
     ]
    }
   ],
   "source": [
    "# 指定Google Drive云端硬盘的根目录，名为drive\n",
    "!mkdir -p drive\n",
    "!google-drive-ocamlfuse drive\n",
    "\n",
    "# 指定当前的工作目录\n",
    "import os\n",
    "\n",
    "# 此处为google drive中的文件路径,drive为之前指定的工作根目录，要加上\n",
    "os.chdir(\"drive/CS5412_Cloud_Computing/Digital Agriculture\") \n",
    "\n",
    "\n",
    "# 查看文件目录，是否包含所需的文件\n",
    "!ls"
   ]
  },
  {
   "cell_type": "code",
   "execution_count": 0,
   "metadata": {
    "colab": {},
    "colab_type": "code",
    "id": "2F1bgOPH3FKI"
   },
   "outputs": [],
   "source": [
    "import pandas as pd\n",
    "import numpy as np\n",
    "import matplotlib.pyplot as plt\n",
    "%matplotlib inline\n",
    "from sklearn.utils import shuffle\n",
    "from sklearn.preprocessing import LabelEncoder\n",
    "from sklearn.model_selection import train_test_split\n"
   ]
  },
  {
   "cell_type": "markdown",
   "metadata": {
    "colab_type": "text",
    "id": "lcTEhv7G7SM3"
   },
   "source": []
  },
  {
   "cell_type": "code",
   "execution_count": 222,
   "metadata": {
    "colab": {
     "base_uri": "https://localhost:8080/",
     "height": 342
    },
    "colab_type": "code",
    "id": "5WPpT1Ed3FKS",
    "outputId": "cfee7010-024b-4377-cbad-fd3d8ca3eec0"
   },
   "outputs": [
    {
     "data": {
      "text/html": [
       "<div>\n",
       "<style scoped>\n",
       "    .dataframe tbody tr th:only-of-type {\n",
       "        vertical-align: middle;\n",
       "    }\n",
       "\n",
       "    .dataframe tbody tr th {\n",
       "        vertical-align: top;\n",
       "    }\n",
       "\n",
       "    .dataframe thead th {\n",
       "        text-align: right;\n",
       "    }\n",
       "</style>\n",
       "<table border=\"1\" class=\"dataframe\">\n",
       "  <thead>\n",
       "    <tr style=\"text-align: right;\">\n",
       "      <th></th>\n",
       "      <th>ID</th>\n",
       "      <th>FDAT</th>\n",
       "      <th>LACT</th>\n",
       "      <th>bolus</th>\n",
       "      <th>DATB1</th>\n",
       "      <th>First Breeding</th>\n",
       "      <th>DIMB1</th>\n",
       "      <th>CODB1</th>\n",
       "      <th>OUTB1</th>\n",
       "      <th>DATB2</th>\n",
       "      <th>...</th>\n",
       "      <th>ABDIM2</th>\n",
       "      <th>ABDAT3</th>\n",
       "      <th>ABDIM3</th>\n",
       "      <th>ABDAT4</th>\n",
       "      <th>ABDIM4</th>\n",
       "      <th>ABDAT5</th>\n",
       "      <th>DCCPR1</th>\n",
       "      <th>DCCPR2</th>\n",
       "      <th>DCCPR3</th>\n",
       "      <th>DCCPR4</th>\n",
       "    </tr>\n",
       "  </thead>\n",
       "  <tbody>\n",
       "    <tr>\n",
       "      <th>0</th>\n",
       "      <td>1</td>\n",
       "      <td>2018-06-04</td>\n",
       "      <td>3</td>\n",
       "      <td>.</td>\n",
       "      <td>2018-08-09</td>\n",
       "      <td>Thu</td>\n",
       "      <td>66</td>\n",
       "      <td>T</td>\n",
       "      <td>O</td>\n",
       "      <td>2018-09-04 00:00:00</td>\n",
       "      <td>...</td>\n",
       "      <td>.</td>\n",
       "      <td>.</td>\n",
       "      <td>.</td>\n",
       "      <td>.</td>\n",
       "      <td>.</td>\n",
       "      <td>.</td>\n",
       "      <td>34DAYS</td>\n",
       "      <td>62DAYS</td>\n",
       "      <td>.</td>\n",
       "      <td>.</td>\n",
       "    </tr>\n",
       "    <tr>\n",
       "      <th>1</th>\n",
       "      <td>2</td>\n",
       "      <td>2018-06-04</td>\n",
       "      <td>2</td>\n",
       "      <td>.</td>\n",
       "      <td>2018-08-09</td>\n",
       "      <td>Thu</td>\n",
       "      <td>66</td>\n",
       "      <td>T</td>\n",
       "      <td>O</td>\n",
       "      <td>2018-08-31 00:00:00</td>\n",
       "      <td>...</td>\n",
       "      <td>.</td>\n",
       "      <td>.</td>\n",
       "      <td>.</td>\n",
       "      <td>.</td>\n",
       "      <td>.</td>\n",
       "      <td>.</td>\n",
       "      <td>31DAYS</td>\n",
       "      <td>66DAYS</td>\n",
       "      <td>.</td>\n",
       "      <td>.</td>\n",
       "    </tr>\n",
       "    <tr>\n",
       "      <th>2</th>\n",
       "      <td>3</td>\n",
       "      <td>2018-09-17</td>\n",
       "      <td>2</td>\n",
       "      <td>.</td>\n",
       "      <td>2018-11-22</td>\n",
       "      <td>Thu</td>\n",
       "      <td>66</td>\n",
       "      <td>T</td>\n",
       "      <td>O</td>\n",
       "      <td>2018-12-17 00:00:00</td>\n",
       "      <td>...</td>\n",
       "      <td>.</td>\n",
       "      <td>.</td>\n",
       "      <td>.</td>\n",
       "      <td>.</td>\n",
       "      <td>.</td>\n",
       "      <td>.</td>\n",
       "      <td>31DAYS</td>\n",
       "      <td>.</td>\n",
       "      <td>.</td>\n",
       "      <td>.</td>\n",
       "    </tr>\n",
       "    <tr>\n",
       "      <th>3</th>\n",
       "      <td>10</td>\n",
       "      <td>2018-12-28</td>\n",
       "      <td>3</td>\n",
       "      <td>1700003117G8V</td>\n",
       "      <td>2019-03-07</td>\n",
       "      <td>Thu</td>\n",
       "      <td>69</td>\n",
       "      <td>T</td>\n",
       "      <td>O</td>\n",
       "      <td>2019-03-14 00:00:00</td>\n",
       "      <td>...</td>\n",
       "      <td>.</td>\n",
       "      <td>.</td>\n",
       "      <td>.</td>\n",
       "      <td>.</td>\n",
       "      <td>.</td>\n",
       "      <td>.</td>\n",
       "      <td>.</td>\n",
       "      <td>.</td>\n",
       "      <td>.</td>\n",
       "      <td>.</td>\n",
       "    </tr>\n",
       "    <tr>\n",
       "      <th>4</th>\n",
       "      <td>18</td>\n",
       "      <td>2018-10-09</td>\n",
       "      <td>3</td>\n",
       "      <td>.</td>\n",
       "      <td>2018-12-13</td>\n",
       "      <td>Thu</td>\n",
       "      <td>65</td>\n",
       "      <td>T</td>\n",
       "      <td>P</td>\n",
       "      <td>.</td>\n",
       "      <td>...</td>\n",
       "      <td>.</td>\n",
       "      <td>.</td>\n",
       "      <td>.</td>\n",
       "      <td>.</td>\n",
       "      <td>.</td>\n",
       "      <td>.</td>\n",
       "      <td>32DAYS</td>\n",
       "      <td>60DAYS</td>\n",
       "      <td>.</td>\n",
       "      <td>.</td>\n",
       "    </tr>\n",
       "  </tbody>\n",
       "</table>\n",
       "<p>5 rows × 80 columns</p>\n",
       "</div>"
      ],
      "text/plain": [
       "   ID       FDAT  LACT           bolus      DATB1 First Breeding  DIMB1 CODB1  \\\n",
       "0   1 2018-06-04     3               . 2018-08-09            Thu     66     T   \n",
       "1   2 2018-06-04     2               . 2018-08-09            Thu     66     T   \n",
       "2   3 2018-09-17     2               . 2018-11-22            Thu     66     T   \n",
       "3  10 2018-12-28     3  1700003117G8V  2019-03-07            Thu     69     T   \n",
       "4  18 2018-10-09     3               . 2018-12-13            Thu     65     T   \n",
       "\n",
       "  OUTB1                DATB2  ...   ABDIM2 ABDAT3 ABDIM3 ABDAT4 ABDIM4 ABDAT5  \\\n",
       "0     O  2018-09-04 00:00:00  ...        .      .      .      .      .      .   \n",
       "1     O  2018-08-31 00:00:00  ...        .      .      .      .      .      .   \n",
       "2     O  2018-12-17 00:00:00  ...        .      .      .      .      .      .   \n",
       "3     O  2019-03-14 00:00:00  ...        .      .      .      .      .      .   \n",
       "4     P                    .  ...        .      .      .      .      .      .   \n",
       "\n",
       "      DCCPR1     DCCPR2 DCCPR3 DCCPR4  \n",
       "0  34DAYS     62DAYS         .      .  \n",
       "1  31DAYS     66DAYS         .      .  \n",
       "2  31DAYS             .      .      .  \n",
       "3          .          .      .      .  \n",
       "4  32DAYS     60DAYS         .      .  \n",
       "\n",
       "[5 rows x 80 columns]"
      ]
     },
     "execution_count": 222,
     "metadata": {
      "tags": []
     },
     "output_type": "execute_result"
    }
   ],
   "source": [
    "#Read two kinds of data from file\n",
    "data = pd.read_excel('./Copy of Repro all cows.XLS')\n",
    "data_afi = pd.read_excel('./AfiFarm_Daily data_Walnut Ridge_20180819 (April-Aug).xlsx')\n",
    "#get the unique list of ID\n",
    "ID = data[\"ID\"].unique()\n",
    "print(\"ID.shape: \",ID.shape)\n",
    "data.head(5)"
   ]
  },
  {
   "cell_type": "code",
   "execution_count": 224,
   "metadata": {
    "colab": {
     "base_uri": "https://localhost:8080/",
     "height": 36
    },
    "colab_type": "code",
    "id": "YCxwVQ1-3FKj",
    "outputId": "eba39c5f-a251-4ac1-8666-7eddc38470f3"
   },
   "outputs": [
    {
     "data": {
      "text/plain": [
       "(3, 80)"
      ]
     },
     "execution_count": 224,
     "metadata": {
      "tags": []
     },
     "output_type": "execute_result"
    }
   ],
   "source": [
    "\n",
    "id_afi = data_afi[\"Animal_ID\"].unique()\n",
    "id_afi.shape\n",
    "col = data.columns\n",
    "li = []\n",
    "for s in col:\n",
    "    li.append(data[s])\n",
    "len(li[0])\n",
    "\n",
    "data.iloc[0:3,:].shape\n",
    "# data_afi[\"Animal_ID\"]\n"
   ]
  },
  {
   "cell_type": "code",
   "execution_count": 0,
   "metadata": {
    "colab": {},
    "colab_type": "code",
    "id": "pdP3vtab3FKp"
   },
   "outputs": [],
   "source": [
    "# Create the dictionary to store the data of \"Repro all of row\", key is \"ID\"\n",
    "data_dic = {}\n",
    "for i in range(ID.shape[0]): \n",
    "    data_dic[ID[i]] = [data.iloc[i,:]]"
   ]
  },
  {
   "cell_type": "code",
   "execution_count": 0,
   "metadata": {
    "colab": {},
    "colab_type": "code",
    "id": "H5dIcrgYC8TD"
   },
   "outputs": [],
   "source": [
    "#Join \"afi table\" into the dictionary by \"ID\"\n",
    "for i in range(data_afi[\"Animal_ID\"].shape[0]):\n",
    "    if data_afi[\"Animal_ID\"][i] in ID:\n",
    "        data_dic[data_afi[\"Animal_ID\"][i]].append(data_afi.iloc[i,:])"
   ]
  },
  {
   "cell_type": "code",
   "execution_count": 227,
   "metadata": {
    "colab": {
     "base_uri": "https://localhost:8080/",
     "height": 56
    },
    "colab_type": "code",
    "id": "ON90L1G3ELkm",
    "outputId": "d15cf577-cd47-4f62-8671-6fb7101c9f1c"
   },
   "outputs": [
    {
     "name": "stdout",
     "output_type": "stream",
     "text": [
      "[[datetime.datetime(2019, 2, 15, 0, 0)], [Timestamp('2018-11-22 00:00:00'), datetime.datetime(2018, 12, 17, 0, 0), datetime.datetime(2019, 1, 22, 0, 0)]]\n"
     ]
    }
   ],
   "source": [
    "#Sclice the \"Repro all of row table\" by label\"P | O\" and get the accoding date\n",
    "def findData(list1, dic, key):\n",
    "    ind = 8\n",
    "    listp = []\n",
    "    listo = []\n",
    "    while(ind < len(list1)):\n",
    "        if list1[ind] == 'P':\n",
    "            listp.append(list1[ind-4])\n",
    "            break\n",
    "        elif list1[ind] == 'O':\n",
    "            listo.append(list1[ind-4])\n",
    "            ind += 5\n",
    "        else:\n",
    "            break\n",
    "    dic[key] = [listp, listo]\n",
    "# Set the threashld to 10 days\n",
    "threshold = datetime.datetime(2019, 1, 22, 0, 0) - datetime.datetime(2019, 1, 12, 0, 0)    \n",
    "time_dic = {}\n",
    "for key in data_dic:\n",
    "    findData(data_dic[key][0],time_dic,key)\n",
    "\n",
    "print((time_dic[3]))"
   ]
  },
  {
   "cell_type": "code",
   "execution_count": 228,
   "metadata": {
    "colab": {
     "base_uri": "https://localhost:8080/",
     "height": 92
    },
    "colab_type": "code",
    "id": "CFHJFyTLXCWx",
    "outputId": "1d72d727-7b94-4446-e77a-d3ad68ee471b"
   },
   "outputs": [
    {
     "name": "stdout",
     "output_type": "stream",
     "text": [
      "500\n",
      "1000\n",
      "1500\n",
      "14132\n"
     ]
    }
   ],
   "source": [
    "# Find all data that could use to train the model\n",
    "count = 0\n",
    "def createSet(time_list, afi_table, threshold, dataset):\n",
    "    for li in afi_table: \n",
    "        if time_list[0] != [] and abs(li[2] - time_list[0][0]) < threshold: \n",
    "            dataset.append([li[3:],1])\n",
    "        else: \n",
    "            for time_o in time_list[1]:\n",
    "                if abs(li[2] - time_o) < threshold: \n",
    "                    dataset.append([li[3:],0])\n",
    "                    break\n",
    "                \n",
    "dataset = []\n",
    "# createSet(time_dic[1],data_dic[1][1:],threshold, dataset)\n",
    "for key in time_dic:\n",
    "    createSet(time_dic[key],data_dic[key][1:],threshold, dataset)\n",
    "    count += 1\n",
    "    if (count % 500 == 0):\n",
    "        print(count)\n",
    "print(len(dataset))"
   ]
  },
  {
   "cell_type": "code",
   "execution_count": 229,
   "metadata": {
    "colab": {
     "base_uri": "https://localhost:8080/",
     "height": 391
    },
    "colab_type": "code",
    "id": "e1nzUGq8txgb",
    "outputId": "f841f8a7-16b6-4357-de2c-4fd78d317709"
   },
   "outputs": [
    {
     "name": "stdout",
     "output_type": "stream",
     "text": [
      "[Dry_Days                     0\n",
      "Days_in_Milk                58\n",
      "Is_Milked                    1\n",
      "Lactation_Num                3\n",
      "Yield (gr)               52840\n",
      "Conductivity                93\n",
      "Fat (%)                   3.32\n",
      "Protein (%)               2.96\n",
      "Lactose (%)                4.5\n",
      "Blood (%)                 0.03\n",
      "SCC (*1000/ml)           56624\n",
      "Activity (steps/hour)      139\n",
      "RestTime (minutes)         613\n",
      "RestBout (#)                12\n",
      "ProdRate (gr/hour)        2201\n",
      "RestRatio (%)               43\n",
      "RestRestlessness            26\n",
      "RestPerBout (minutes)       51\n",
      "ActivityDeviation (%)       -4\n",
      "Name: 14, dtype: object, 0]\n"
     ]
    }
   ],
   "source": [
    "print((dataset[0]))  "
   ]
  },
  {
   "cell_type": "code",
   "execution_count": 230,
   "metadata": {
    "colab": {
     "base_uri": "https://localhost:8080/",
     "height": 54
    },
    "colab_type": "code",
    "id": "jR5Wb4AIZgXz",
    "outputId": "0247edae-718f-46d4-ed27-db44b543206b"
   },
   "outputs": [
    {
     "name": "stdout",
     "output_type": "stream",
     "text": [
      "<class 'list'>\n",
      "14132 20\n"
     ]
    }
   ],
   "source": [
    "import csv\n",
    "import numpy as np\n",
    "\n",
    "#Change the type of dictionay to DataFrame\n",
    "data_new = []\n",
    "for data in dataset:\n",
    "    temp = []\n",
    "    for p in data[0]:\n",
    "        temp.append(p)\n",
    "    temp.append(data[1])\n",
    "    data_new.append(temp)\n",
    "print(len(data_new), len(data_new[0]))\n",
    "data_set_new = pd.DataFrame(data_new)\n"
   ]
  },
  {
   "cell_type": "code",
   "execution_count": 231,
   "metadata": {
    "colab": {
     "base_uri": "https://localhost:8080/",
     "height": 36
    },
    "colab_type": "code",
    "id": "PaGwUYESc48V",
    "outputId": "9e8cba2f-aeb1-4e05-8d18-c120bacf1b9c"
   },
   "outputs": [
    {
     "name": "stdout",
     "output_type": "stream",
     "text": [
      "<class 'pandas.core.indexes.base.Index'>\n"
     ]
    }
   ],
   "source": [
    "# Add the columns' name into the new DataFraom \n",
    "columns_afi = data_afi.columns\n",
    "columns_afi = columns_afi[3:]\n",
    "print(type(columns_afi))\n",
    "columns = ['Dry_Days', 'Days_in_Milk', 'Is_Milked', 'Lactation_Num', 'Yield (gr)',\n",
    "       'Conductivity', 'Fat (%)', 'Protein (%)', 'Lactose (%)', 'Blood (%)',\n",
    "       'SCC (*1000/ml)', 'Activity (steps/hour)', 'RestTime (minutes)',\n",
    "       'RestBout (#)', 'ProdRate (gr/hour)', 'RestRatio (%)',\n",
    "       'RestRestlessness', 'RestPerBout (minutes)', 'ActivityDeviation (%)','label']\n",
    "data_set_new.columns = columns"
   ]
  },
  {
   "cell_type": "code",
   "execution_count": 232,
   "metadata": {
    "colab": {
     "base_uri": "https://localhost:8080/",
     "height": 243
    },
    "colab_type": "code",
    "id": "jFh0tIsQsNHT",
    "outputId": "e343e7b7-ff84-440e-a4b7-d1052f22244e"
   },
   "outputs": [
    {
     "data": {
      "text/html": [
       "<div>\n",
       "<style scoped>\n",
       "    .dataframe tbody tr th:only-of-type {\n",
       "        vertical-align: middle;\n",
       "    }\n",
       "\n",
       "    .dataframe tbody tr th {\n",
       "        vertical-align: top;\n",
       "    }\n",
       "\n",
       "    .dataframe thead th {\n",
       "        text-align: right;\n",
       "    }\n",
       "</style>\n",
       "<table border=\"1\" class=\"dataframe\">\n",
       "  <thead>\n",
       "    <tr style=\"text-align: right;\">\n",
       "      <th></th>\n",
       "      <th>Dry_Days</th>\n",
       "      <th>Days_in_Milk</th>\n",
       "      <th>Is_Milked</th>\n",
       "      <th>Lactation_Num</th>\n",
       "      <th>Yield (gr)</th>\n",
       "      <th>Conductivity</th>\n",
       "      <th>Fat (%)</th>\n",
       "      <th>Protein (%)</th>\n",
       "      <th>Lactose (%)</th>\n",
       "      <th>Blood (%)</th>\n",
       "      <th>SCC (*1000/ml)</th>\n",
       "      <th>Activity (steps/hour)</th>\n",
       "      <th>RestTime (minutes)</th>\n",
       "      <th>RestBout (#)</th>\n",
       "      <th>ProdRate (gr/hour)</th>\n",
       "      <th>RestRatio (%)</th>\n",
       "      <th>RestRestlessness</th>\n",
       "      <th>RestPerBout (minutes)</th>\n",
       "      <th>ActivityDeviation (%)</th>\n",
       "      <th>label</th>\n",
       "    </tr>\n",
       "  </thead>\n",
       "  <tbody>\n",
       "    <tr>\n",
       "      <th>0</th>\n",
       "      <td>0</td>\n",
       "      <td>58</td>\n",
       "      <td>1</td>\n",
       "      <td>3</td>\n",
       "      <td>52840</td>\n",
       "      <td>93.0</td>\n",
       "      <td>3.32</td>\n",
       "      <td>2.96</td>\n",
       "      <td>4.50</td>\n",
       "      <td>0.03</td>\n",
       "      <td>56623.962</td>\n",
       "      <td>139</td>\n",
       "      <td>613</td>\n",
       "      <td>12</td>\n",
       "      <td>2201</td>\n",
       "      <td>43</td>\n",
       "      <td>26</td>\n",
       "      <td>51</td>\n",
       "      <td>-4.0</td>\n",
       "      <td>0</td>\n",
       "    </tr>\n",
       "    <tr>\n",
       "      <th>1</th>\n",
       "      <td>0</td>\n",
       "      <td>62</td>\n",
       "      <td>1</td>\n",
       "      <td>3</td>\n",
       "      <td>54376</td>\n",
       "      <td>95.0</td>\n",
       "      <td>3.10</td>\n",
       "      <td>2.90</td>\n",
       "      <td>4.45</td>\n",
       "      <td>0.05</td>\n",
       "      <td>7516.227</td>\n",
       "      <td>138</td>\n",
       "      <td>499</td>\n",
       "      <td>10</td>\n",
       "      <td>2265</td>\n",
       "      <td>35</td>\n",
       "      <td>34</td>\n",
       "      <td>50</td>\n",
       "      <td>4.0</td>\n",
       "      <td>0</td>\n",
       "    </tr>\n",
       "    <tr>\n",
       "      <th>2</th>\n",
       "      <td>0</td>\n",
       "      <td>66</td>\n",
       "      <td>1</td>\n",
       "      <td>3</td>\n",
       "      <td>58753</td>\n",
       "      <td>95.0</td>\n",
       "      <td>3.12</td>\n",
       "      <td>2.89</td>\n",
       "      <td>4.56</td>\n",
       "      <td>0.01</td>\n",
       "      <td>13458.609</td>\n",
       "      <td>166</td>\n",
       "      <td>498</td>\n",
       "      <td>13</td>\n",
       "      <td>2448</td>\n",
       "      <td>34</td>\n",
       "      <td>37</td>\n",
       "      <td>38</td>\n",
       "      <td>16.0</td>\n",
       "      <td>0</td>\n",
       "    </tr>\n",
       "    <tr>\n",
       "      <th>3</th>\n",
       "      <td>0</td>\n",
       "      <td>70</td>\n",
       "      <td>1</td>\n",
       "      <td>3</td>\n",
       "      <td>57293</td>\n",
       "      <td>96.0</td>\n",
       "      <td>3.23</td>\n",
       "      <td>2.95</td>\n",
       "      <td>4.60</td>\n",
       "      <td>0.04</td>\n",
       "      <td>311.171</td>\n",
       "      <td>141</td>\n",
       "      <td>733</td>\n",
       "      <td>10</td>\n",
       "      <td>2387</td>\n",
       "      <td>53</td>\n",
       "      <td>20</td>\n",
       "      <td>73</td>\n",
       "      <td>1.0</td>\n",
       "      <td>0</td>\n",
       "    </tr>\n",
       "    <tr>\n",
       "      <th>4</th>\n",
       "      <td>0</td>\n",
       "      <td>74</td>\n",
       "      <td>1</td>\n",
       "      <td>3</td>\n",
       "      <td>54363</td>\n",
       "      <td>95.0</td>\n",
       "      <td>3.67</td>\n",
       "      <td>2.98</td>\n",
       "      <td>4.44</td>\n",
       "      <td>0.04</td>\n",
       "      <td>30974.205</td>\n",
       "      <td>139</td>\n",
       "      <td>613</td>\n",
       "      <td>10</td>\n",
       "      <td>2265</td>\n",
       "      <td>42</td>\n",
       "      <td>26</td>\n",
       "      <td>61</td>\n",
       "      <td>2.0</td>\n",
       "      <td>0</td>\n",
       "    </tr>\n",
       "  </tbody>\n",
       "</table>\n",
       "</div>"
      ],
      "text/plain": [
       "   Dry_Days  Days_in_Milk  Is_Milked  Lactation_Num  Yield (gr)  Conductivity  \\\n",
       "0         0            58          1              3       52840          93.0   \n",
       "1         0            62          1              3       54376          95.0   \n",
       "2         0            66          1              3       58753          95.0   \n",
       "3         0            70          1              3       57293          96.0   \n",
       "4         0            74          1              3       54363          95.0   \n",
       "\n",
       "   Fat (%)  Protein (%)  Lactose (%)  Blood (%)  SCC (*1000/ml)  \\\n",
       "0     3.32         2.96         4.50       0.03       56623.962   \n",
       "1     3.10         2.90         4.45       0.05        7516.227   \n",
       "2     3.12         2.89         4.56       0.01       13458.609   \n",
       "3     3.23         2.95         4.60       0.04         311.171   \n",
       "4     3.67         2.98         4.44       0.04       30974.205   \n",
       "\n",
       "   Activity (steps/hour)  RestTime (minutes)  RestBout (#)  \\\n",
       "0                    139                 613            12   \n",
       "1                    138                 499            10   \n",
       "2                    166                 498            13   \n",
       "3                    141                 733            10   \n",
       "4                    139                 613            10   \n",
       "\n",
       "   ProdRate (gr/hour)  RestRatio (%)  RestRestlessness  RestPerBout (minutes)  \\\n",
       "0                2201             43                26                     51   \n",
       "1                2265             35                34                     50   \n",
       "2                2448             34                37                     38   \n",
       "3                2387             53                20                     73   \n",
       "4                2265             42                26                     61   \n",
       "\n",
       "   ActivityDeviation (%)  label  \n",
       "0                   -4.0      0  \n",
       "1                    4.0      0  \n",
       "2                   16.0      0  \n",
       "3                    1.0      0  \n",
       "4                    2.0      0  "
      ]
     },
     "execution_count": 232,
     "metadata": {
      "tags": []
     },
     "output_type": "execute_result"
    }
   ],
   "source": [
    "data_set_new.head()"
   ]
  },
  {
   "cell_type": "code",
   "execution_count": 0,
   "metadata": {
    "colab": {},
    "colab_type": "code",
    "id": "-7sYB1XSqlm_"
   },
   "outputs": [],
   "source": [
    "# Write the cleaned data into the file\n",
    "data_set_new.to_csv(\"./row_data_sbsb.csv\",index=False,sep=',')"
   ]
  },
  {
   "cell_type": "code",
   "execution_count": null,
   "metadata": {},
   "outputs": [],
   "source": []
  },
  {
   "cell_type": "code",
   "execution_count": null,
   "metadata": {},
   "outputs": [],
   "source": []
  },
  {
   "cell_type": "code",
   "execution_count": null,
   "metadata": {},
   "outputs": [],
   "source": []
  },
  {
   "cell_type": "code",
   "execution_count": 0,
   "metadata": {
    "colab": {},
    "colab_type": "code",
    "id": "jvLZqDI_ltCa"
   },
   "outputs": [],
   "source": []
  },
  {
   "cell_type": "code",
   "execution_count": 0,
   "metadata": {
    "colab": {},
    "colab_type": "code",
    "id": "l7RDd0RcHRum"
   },
   "outputs": [],
   "source": []
  }
 ],
 "metadata": {
  "accelerator": "GPU",
  "colab": {
   "collapsed_sections": [],
   "include_colab_link": true,
   "name": "cloud_data.ipynb",
   "provenance": [],
   "version": "0.3.2"
  },
  "kernelspec": {
   "display_name": "Python 3",
   "language": "python",
   "name": "python3"
  },
  "language_info": {
   "codemirror_mode": {
    "name": "ipython",
    "version": 3
   },
   "file_extension": ".py",
   "mimetype": "text/x-python",
   "name": "python",
   "nbconvert_exporter": "python",
   "pygments_lexer": "ipython3",
   "version": "3.6.5"
  }
 },
 "nbformat": 4,
 "nbformat_minor": 1
}
